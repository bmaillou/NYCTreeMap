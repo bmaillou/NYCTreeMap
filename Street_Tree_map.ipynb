{
 "cells": [
  {
   "cell_type": "code",
   "execution_count": 1,
   "metadata": {},
   "outputs": [],
   "source": [
    "%matplotlib inline\n",
    "import matplotlib.pylab as plt\n",
    "from matplotlib.backends.backend_pdf import PdfPages\n",
    "import matplotlib.dates as mdates\n",
    "import numpy as np # for array processing\n",
    "import pandas as pd \n",
    "\n",
    "from scipy.stats import norm\n",
    "from scipy import stats\n",
    "\n",
    "import datetime\n",
    "\n",
    "import folium\n",
    "from IPython.display import HTML\n",
    "from IPython.display import IFrame\n",
    "import base64\n",
    "\n",
    "\n",
    "#from mpld3 import save_html  #Installed from conda\n",
    "from folium import IFrame"
   ]
  },
  {
   "cell_type": "markdown",
   "metadata": {},
   "source": [
    "## Read in an plot trees for one zipcode\n",
    "1.  I read in the data\n",
    "1.  I set the size of my popup\n",
    "1.  I set the opening location of the map\n",
    "1.  I make the map zoomed in.\n",
    "1.  You need to set the max_zoom and max_native_zoom to let you zoom in really far.\n",
    "1.  make the html popup is a pain.  You need to make html code and then pass it through IFrame.  \n",
    "1.  loop through row by row. Save and you are set.\n"
   ]
  },
  {
   "cell_type": "code",
   "execution_count": 2,
   "metadata": {},
   "outputs": [],
   "source": [
    "df=pd.read_excel('Zip_10025_sample_Sites.xlsx',sheet_name='Python')\n",
    "\n",
    "resolution, width, height = 100, 3, 4#75, 6, 3\n",
    "max_width=10000#2600\n",
    "location =[40.805,-73.9645]\n",
    "\n",
    "m = folium.Map(location=location,zoom_start=17,max_zoom=22,max_native_zoom=19)\n",
    "\n",
    "\n",
    "\n",
    "for i,tree in df.iterrows():\n",
    "    text=u\"\"\"<h1>{}<br><br>{}<br><br>{}<br><br>DBH in 05={}<br>DHB in 15={}<br><br>\n",
    "            <a href={} target=\"_blank\">Tree info</a>\n",
    "            <br><a href=https://bmaillou.github.io/NYCTreeMap/measureDBH.png target=\"_blank\">DBH info</a></h1>\"\"\"\\\n",
    "                        .format(tree['tree_id_15'],tree['address'],tree['spc_common'],\\\n",
    "                                tree['tree_dbh_05'],tree['tree_dbh_15'],df.loc[i]['link'])\n",
    "    iframe = IFrame(text, width=(width*resolution)+75, height=(height*resolution)+50)\n",
    "    popup = folium.Popup(iframe, max_width=max_width)\n",
    "    location =[df.loc[i]['latitude_15'],df.loc[i]['longitude_15']]\n",
    "    folium.CircleMarker(location=location,popup=popup,radius=35,color=df.loc[i]['color'],fill=True).add_to(m)\n",
    "    \n",
    "folium.LayerControl().add_to(m)\n",
    "m.save(outfile='index.html') \n"
   ]
  },
  {
   "cell_type": "markdown",
   "metadata": {},
   "source": [
    "to make the website https://github.com/NieneB/Webmapping_for_beginners/wiki/Hosting-on-github\n",
    "\n",
    "\n",
    "https://leafletjs.com/examples/mobile/\n",
    "\n",
    "ADD THIS UNDER var map\n",
    "\n",
    "     map_3235937e444244df8e4a6b6f3b41e4cc.locate({setView: true, maxZoom: 16});\n",
    "\n",
    "     function onLocationFound(e) {\n",
    "     var radius = e.accuracy / 2;\n",
    "\n",
    "     L.marker(e.latlng).addTo(map_3235937e444244df8e4a6b6f3b41e4cc);\n",
    "\n",
    "     }\n",
    "     function onLocationError(e) {\n",
    "     alert(e.message);\n",
    "     }\n",
    "\n",
    "     map_3235937e444244df8e4a6b6f3b41e4cc.on('locationerror', onLocationError);\n",
    "\n",
    "     map_3235937e444244df8e4a6b6f3b41e4cc.on('locationfound', onLocationFound);\n",
    "    \n"
   ]
  },
  {
   "cell_type": "markdown",
   "metadata": {},
   "source": [
    "Make and save a graph of each tree's data"
   ]
  },
  {
   "cell_type": "markdown",
   "metadata": {},
   "source": [
    "# This is the second critical part after making the png above\n",
    "\n",
    "This takes the figures from the previous one and puts them at each point on the map.  The key part is how you read the png file and encode it to an html file.  I don't really understand but I made it work.\n",
    "\n",
    "The encoding fails\n",
    "https://stackoverflow.com/questions/48257467/how-to-encode-a-string-in-python3-6\n",
    "\n",
    "https://github.com/python-visualization/folium/issues/604\n",
    "\n",
    "http://nbviewer.jupyter.org/gist/ocefpaf/0ec5c93138744e5072847822818b4362\n",
    "\n",
    "maybe these help also\n",
    "https://stackoverflow.com/questions/491921/unicode-utf-8-reading-and-writing-to-files-in-python\n",
    "https://stackoverflow.com/questions/48257467/how-to-encode-a-string-in-python3-6\n",
    "\n",
    "This is where I found max_zoom\n",
    "https://github.com/python-visualization/folium/blob/master/folium/folium.py\n"
   ]
  }
 ],
 "metadata": {
  "kernelspec": {
   "display_name": "Python 3",
   "language": "python",
   "name": "python3"
  },
  "language_info": {
   "codemirror_mode": {
    "name": "ipython",
    "version": 3
   },
   "file_extension": ".py",
   "mimetype": "text/x-python",
   "name": "python",
   "nbconvert_exporter": "python",
   "pygments_lexer": "ipython3",
   "version": "3.6.6"
  }
 },
 "nbformat": 4,
 "nbformat_minor": 2
}
